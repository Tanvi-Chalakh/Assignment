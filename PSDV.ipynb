{
  "nbformat": 4,
  "nbformat_minor": 0,
  "metadata": {
    "colab": {
      "provenance": []
    },
    "kernelspec": {
      "name": "python3",
      "display_name": "Python 3"
    },
    "language_info": {
      "name": "python"
    }
  },
  "cells": [
    {
      "cell_type": "code",
      "execution_count": null,
      "metadata": {
        "colab": {
          "base_uri": "https://localhost:8080/"
        },
        "id": "qNljsG-suUPt",
        "outputId": "951c0592-2244-425b-99ca-f7eccea7601e"
      },
      "outputs": [
        {
          "output_type": "stream",
          "name": "stdout",
          "text": [
            "[1, 2, 3, 4, 5, 6, 7, 8, 9, 10, 11, 12, 13, 14, 15, 16, 17, 18, 19, 20]\n"
          ]
        }
      ],
      "source": [
        "a=[]\n",
        "for i in range(1,21):\n",
        "  a=a+[i]\n",
        "print(a)\n"
      ]
    },
    {
      "cell_type": "markdown",
      "source": [
        "Create a list of the first 20 natural numbers"
      ],
      "metadata": {
        "id": "w22fBZiZuVee"
      }
    },
    {
      "cell_type": "markdown",
      "source": [
        "Compute the sum of all even numbers in the list."
      ],
      "metadata": {
        "id": "8wWJKfRsu3NM"
      }
    },
    {
      "cell_type": "code",
      "source": [
        "s=0\n",
        "for i in a:\n",
        "  s+=i\n",
        "print(s)\n"
      ],
      "metadata": {
        "colab": {
          "base_uri": "https://localhost:8080/"
        },
        "id": "3B2rhMecu7rF",
        "outputId": "c4c46df9-adf4-4b8d-fdec-26c6b4fd6fed"
      },
      "execution_count": null,
      "outputs": [
        {
          "output_type": "stream",
          "name": "stdout",
          "text": [
            "210\n"
          ]
        }
      ]
    },
    {
      "cell_type": "markdown",
      "source": [
        "Compute the product of all odd numbers in the list."
      ],
      "metadata": {
        "id": "3ek7oYIDvM8W"
      }
    },
    {
      "cell_type": "code",
      "source": [
        "m=1\n",
        "for i in a:\n",
        "  if i%2!=0:\n",
        "    m*=i\n",
        "print(m)\n"
      ],
      "metadata": {
        "colab": {
          "base_uri": "https://localhost:8080/"
        },
        "id": "OgS54UWXvRbT",
        "outputId": "e71dea3a-ba98-4c83-d4f7-2d1e88e89a9d"
      },
      "execution_count": null,
      "outputs": [
        {
          "output_type": "stream",
          "name": "stdout",
          "text": [
            "654729075\n"
          ]
        }
      ]
    },
    {
      "cell_type": "markdown",
      "source": [
        "Calculate the mean, median, and standard deviation of the list.\n"
      ],
      "metadata": {
        "id": "S2iSFpd7vnqr"
      }
    },
    {
      "cell_type": "code",
      "source": [
        "j=0\n",
        "s=0\n",
        "s1=0\n",
        "for i in a:\n",
        "  j=j+1\n",
        "  s=s+i\n",
        "mean=s/j\n",
        "print(mean)\n",
        "if j%2==0:\n",
        "  median=(a[j//2]+a[j//2-1])/2\n",
        "else:\n",
        "  median=a[j//2]\n",
        "print(median)\n",
        "for i in a:\n",
        "  s1=s1+(i-mean)**2\n",
        "sd=(s1/j)**0.5\n",
        "print(sd)\n"
      ],
      "metadata": {
        "colab": {
          "base_uri": "https://localhost:8080/"
        },
        "id": "r3vl-3oPvrTC",
        "outputId": "b4ba50de-5bae-4c5d-d390-7e0d7bb1d1b3"
      },
      "execution_count": null,
      "outputs": [
        {
          "output_type": "stream",
          "name": "stdout",
          "text": [
            "10.5\n",
            "10.5\n",
            "5.766281297335398\n"
          ]
        }
      ]
    },
    {
      "cell_type": "markdown",
      "source": [
        "Explain the difference between mutable and immutable data types in Python. Provide examples of each."
      ],
      "metadata": {
        "id": "bgMpLpoZx7vE"
      }
    },
    {
      "cell_type": "markdown",
      "source": [
        "mutable data type: it means you can change, add or remove elements without creating another object. ex: list, dictionary\n",
        "immutable data type: You cannot modify elements without creating another object.\n",
        "example: string"
      ],
      "metadata": {
        "id": "tuiCQwXDyBc6"
      }
    },
    {
      "cell_type": "markdown",
      "source": [
        "Write a Python function that takes a number n and returns a list of the first n Fibonacci numbers."
      ],
      "metadata": {
        "id": "_4O4frpnytw0"
      }
    },
    {
      "cell_type": "code",
      "source": [
        " n=int(input())\n",
        " s=0\n",
        " a=[0,1]\n",
        " for i in range (n-2):\n",
        "  s= a[-1]+a[-2]\n",
        "  a+=[int(s) ]\n",
        "print(a)\n"
      ],
      "metadata": {
        "id": "JWh9D0JuyxfI",
        "colab": {
          "base_uri": "https://localhost:8080/"
        },
        "outputId": "a40ca598-4b18-4d74-e90b-b9aee1c56923"
      },
      "execution_count": null,
      "outputs": [
        {
          "output_type": "stream",
          "name": "stdout",
          "text": [
            "5\n",
            "[0, 1, 1, 2, 3]\n"
          ]
        }
      ]
    },
    {
      "cell_type": "markdown",
      "source": [
        "List Manipulation:\n",
        "Given a list [3, 5, 7, 9, 11, 13]:\n",
        "Insert 6 at the 3rd index.\n",
        "Remove the number 7 from the list.\n",
        "Reverse the list.\n",
        "Calculate the mean and median of the modified list."
      ],
      "metadata": {
        "id": "pxEJMSOvo8VQ"
      }
    },
    {
      "cell_type": "code",
      "source": [
        "a= [3, 5, 7, 9, 11, 13]\n",
        "a.insert(3,6)\n",
        "print(a)\n",
        "a.remove(7)\n",
        "print(a)\n",
        "a.reverse()\n",
        "print(a)\n",
        "total=sum(a)\n",
        "j=0\n",
        "for i in a:\n",
        "  j+=1\n",
        "mean=total/j\n",
        "print(mean)\n",
        "if j%2==0:\n",
        "  median=(a[j//2]+a[j//2-1])/2\n",
        "else:\n",
        "  median=a[j//2]\n",
        "print(median)\n",
        "\n"
      ],
      "metadata": {
        "colab": {
          "base_uri": "https://localhost:8080/"
        },
        "id": "j8eXehUVpJaV",
        "outputId": "af256929-9a70-4a1d-8495-08a535a4e7e7"
      },
      "execution_count": null,
      "outputs": [
        {
          "output_type": "stream",
          "name": "stdout",
          "text": [
            "[3, 5, 7, 6, 9, 11, 13]\n",
            "[3, 5, 6, 9, 11, 13]\n",
            "[13, 11, 9, 6, 5, 3]\n",
            "7.833333333333333\n",
            "7.5\n"
          ]
        }
      ]
    },
    {
      "cell_type": "markdown",
      "source": [
        "Write a program to read a comma-separated list of numbers from the user (e.g., “10, 20, 30, 40”).\n",
        "Calculate the mean of the numbers.\n",
        "Identify and print the smallest and largest numbers.\n",
        "**Plot a histogram of the numbers.**"
      ],
      "metadata": {
        "id": "-GdNdZL3ZQoB"
      }
    },
    {
      "cell_type": "code",
      "source": [
        "numbers= list(map(int,input().split(','))) #take several inputs at once\n",
        "print(numbers)\n",
        "mean=sum(numbers)/len(numbers)\n",
        "print(mean)\n",
        "#print(max(numbers)) #to find max\n",
        "#print(min(numbers)) #to find min\n",
        "numbers.sort()\n",
        "print(numbers[0])\n",
        "print(numbers[-1])"
      ],
      "metadata": {
        "colab": {
          "base_uri": "https://localhost:8080/"
        },
        "id": "KOVUyNXzZVSd",
        "outputId": "77b67c69-2011-4aaa-ebc1-589babc406fb"
      },
      "execution_count": null,
      "outputs": [
        {
          "output_type": "stream",
          "name": "stdout",
          "text": [
            "10,20,30,40\n",
            "[10, 20, 30, 40]\n",
            "25.0\n",
            "10\n",
            "40\n"
          ]
        }
      ]
    },
    {
      "cell_type": "markdown",
      "source": [
        "Write a program to check if a string is a palindrome (ignoring spaces and case).\n",
        "Input: \"A man a plan a canal Panama\"\n",
        "Output: True"
      ],
      "metadata": {
        "id": "mbV8THZ2auQX"
      }
    },
    {
      "cell_type": "code",
      "source": [
        "sen=input()\n",
        "sent=sen.replace(\" \",\"\") #lower() and upper() are used in stringto change the cases\n",
        "sentence= sent.lower()\n",
        "l=len(sentence)\n",
        "if l%2==0:\n",
        "  for i in range(l//2):\n",
        "    if sentence[i]!=sentence[l-i-1]:\n",
        "      print('False')\n",
        "      break\n",
        "  else:\n",
        "    print('True')\n",
        "else:\n",
        "  for i in range(l//2+1):\n",
        "    if sentence[i]!=sentence[l-i-1]:\n",
        "      print('False')\n",
        "      break\n",
        "  else:\n",
        "    print('True')\n"
      ],
      "metadata": {
        "colab": {
          "base_uri": "https://localhost:8080/"
        },
        "id": "5I7Iu9gxbKnY",
        "outputId": "3821b667-6b1a-4529-9025-7a21003ac108"
      },
      "execution_count": null,
      "outputs": [
        {
          "output_type": "stream",
          "name": "stdout",
          "text": [
            "A man a plan a canal Panama\n",
            "True\n"
          ]
        }
      ]
    },
    {
      "cell_type": "markdown",
      "source": [
        "Create a dictionary of student names (keys) and their marks (values).\n",
        "Compute the average marks.\n",
        "Print the names of students scoring above the average.\n",
        "**Visualize the distribution of marks using a bar chart.**"
      ],
      "metadata": {
        "id": "zRQ7KyuxgYCk"
      }
    },
    {
      "cell_type": "code",
      "source": [
        "marks={}\n",
        "marks['anisha']=88\n",
        "marks['tanvi']=99\n",
        "marks['harshal']=100\n",
        "s=0\n",
        "for i in marks:\n",
        "  s+=marks[i]\n",
        "average_marks=s/len(marks)\n",
        "for i in marks:\n",
        "  if marks[i]>average_marks:\n",
        "    print(i)\n"
      ],
      "metadata": {
        "id": "4Z3uonHEgYti",
        "colab": {
          "base_uri": "https://localhost:8080/"
        },
        "outputId": "c8fa2e87-ee74-42f9-df89-bd233ddb7fa1"
      },
      "execution_count": null,
      "outputs": [
        {
          "output_type": "stream",
          "name": "stdout",
          "text": [
            "tanvi\n",
            "harshal\n"
          ]
        }
      ]
    },
    {
      "cell_type": "markdown",
      "source": [
        "Create a list of tuples, where each tuple contains a number and its square (e.g., [(1, 1), (2, 4), (3, 9), ...] for numbers 1 to 10).\n",
        "Plot the numbers and their squares on a scatter plot."
      ],
      "metadata": {
        "id": "BVOsSZfUYgCd"
      }
    },
    {
      "cell_type": "code",
      "source": [
        "sqrs=()\n",
        "for i in range(1,11):\n",
        "  sqrs+=(i,i**2)\n",
        "print(sqrs)\n"
      ],
      "metadata": {
        "colab": {
          "base_uri": "https://localhost:8080/"
        },
        "id": "TiMmarOzf3_J",
        "outputId": "1ce52aaa-568c-4594-d3a8-16bbc0df0e84"
      },
      "execution_count": null,
      "outputs": [
        {
          "output_type": "stream",
          "name": "stdout",
          "text": [
            "(1, 1, 2, 4, 3, 9, 4, 16, 5, 25, 6, 36, 7, 49, 8, 64, 9, 81, 10, 100)\n"
          ]
        }
      ]
    },
    {
      "cell_type": "markdown",
      "source": [
        "Write Python code to merge two dictionaries. If a key is present in both, sum their values."
      ],
      "metadata": {
        "id": "v1h3g2wKgcMP"
      }
    },
    {
      "cell_type": "code",
      "source": [
        "A={'a':1,'b':2}\n",
        "B={'c':3,'d':4}\n",
        "C=A|B\n",
        "print(C)\n"
      ],
      "metadata": {
        "colab": {
          "base_uri": "https://localhost:8080/"
        },
        "id": "eQaIJGcPgp50",
        "outputId": "ad2c8e3a-d572-41f1-b99c-2f0f7d070f98"
      },
      "execution_count": null,
      "outputs": [
        {
          "output_type": "stream",
          "name": "stdout",
          "text": [
            "{'a': 1, 'b': 2, 'c': 3, 'd': 4}\n"
          ]
        }
      ]
    },
    {
      "cell_type": "markdown",
      "source": [
        "Write a function that accepts a string and:\n",
        "Converts all characters to lowercase.\n",
        "Counts the frequency of each character.\n",
        "Returns a dictionary with characters as keys and their counts as values.\n",
        "Visualize the character frequencies using a bar chart."
      ],
      "metadata": {
        "id": "4XbmJ8hVmCGB"
      }
    },
    {
      "cell_type": "code",
      "source": [
        "s=input()\n",
        "s=s.replace(\" \",\"\")\n",
        "sent=s.lower()\n",
        "dic={}\n",
        "for i in sent:\n",
        "  if i not in dic:\n",
        "    dic[i]=1\n",
        "  else:\n",
        "    dic[i]+=1\n",
        "print(dic)"
      ],
      "metadata": {
        "colab": {
          "base_uri": "https://localhost:8080/"
        },
        "id": "HtqXic5VmZ4S",
        "outputId": "1a802df0-b856-4b51-e428-1cf8032b98a8"
      },
      "execution_count": null,
      "outputs": [
        {
          "output_type": "stream",
          "name": "stdout",
          "text": [
            "i like him\n",
            "{'i': 3, 'l': 1, 'k': 1, 'e': 1, 'h': 1, 'm': 1}\n"
          ]
        }
      ]
    },
    {
      "cell_type": "markdown",
      "source": [
        "Write a program to remove duplicate elements from a list while maintaining the order of elements.\n",
        "Calculate the mean and median of the unique elements."
      ],
      "metadata": {
        "id": "1smObkKwqYBU"
      }
    },
    {
      "cell_type": "code",
      "source": [
        "lists= list(map(int,input().split(',')))\n",
        "uniq=[]\n",
        "for i in lists:\n",
        "  if i not in uniq:\n",
        "    uniq+=[i]\n",
        "print(uniq) #making new list instead of modifying the earlier one\n",
        "s=0\n",
        "for j in uniq:\n",
        "  s+=j\n",
        "n=len(uniq)\n",
        "mean=s/n\n",
        "print(mean)\n",
        "if n%2==0:\n",
        "  median=(uniq[n//2]+uniq[n//2-1])/2\n",
        "else:\n",
        "  median=uniq[n//2]\n",
        "print(median)\n",
        "\n"
      ],
      "metadata": {
        "id": "g_nly_ZeqYlB",
        "colab": {
          "base_uri": "https://localhost:8080/"
        },
        "outputId": "f329b0e8-f3ae-4369-d26a-9dd2c5f90980"
      },
      "execution_count": null,
      "outputs": [
        {
          "output_type": "stream",
          "name": "stdout",
          "text": [
            "1,1,2,3,2,3\n",
            "[1, 2, 3]\n",
            "2.0\n",
            "2\n"
          ]
        }
      ]
    },
    {
      "cell_type": "markdown",
      "source": [
        "Given a list of strings, write a Python function to:\n",
        "Find the longest string.\n",
        "Count how many strings start with a vowel.\n",
        "**Visualize the distribution of string lengths using a histogram.**"
      ],
      "metadata": {
        "id": "J9Du4_DrGE0E"
      }
    },
    {
      "cell_type": "code",
      "source": [
        "strings=list(map(str,input().split(', '))) #map must have two arguments\n",
        "a=''\n",
        "c=0\n",
        "for i in strings:\n",
        "  if len(i)>len(a):\n",
        "    a=i\n",
        "  if i[0] in 'aeiouAEIOU':# not is in, it is only 'in' + when used, if i[0] in 'aeiou' or 'AEIOU': , it works differently. why?\n",
        "    c+=1\n",
        "print(a)\n",
        "print(c)\n",
        "\n",
        "\n"
      ],
      "metadata": {
        "id": "MdB01UuUGCNp",
        "colab": {
          "base_uri": "https://localhost:8080/"
        },
        "outputId": "7c56e8bd-010e-4dd7-97e2-86f9898ff249"
      },
      "execution_count": null,
      "outputs": [
        {
          "output_type": "stream",
          "name": "stdout",
          "text": [
            "apple, cherry, blueberry, mango\n",
            "blueberry\n",
            "1\n"
          ]
        }
      ]
    },
    {
      "cell_type": "markdown",
      "source": [
        "13 not done"
      ],
      "metadata": {
        "id": "rtD2_eXOQZg0"
      }
    },
    {
      "cell_type": "markdown",
      "source": [
        "Write a program to:\n",
        "Split a string into a list of words.\n",
        "Remove all words that are shorter than 4 characters.\n",
        "Sort the remaining words alphabetically.\n",
        "**Visualize the word lengths using a bar chart.**"
      ],
      "metadata": {
        "id": "F9LHtRdZSvO_"
      }
    },
    {
      "cell_type": "code",
      "source": [
        "sen=input()\n",
        "words=sen.split(\" \")\n",
        "for i in words:\n",
        "  if len(i)<4:\n",
        "    words.remove(i)\n",
        "print(words)\n",
        "words.sort()\n",
        "print(words)"
      ],
      "metadata": {
        "colab": {
          "base_uri": "https://localhost:8080/"
        },
        "id": "7dtfGzMSQfoW",
        "outputId": "ae4b0482-1679-4b69-ad48-cb83574530f4"
      },
      "execution_count": 3,
      "outputs": [
        {
          "output_type": "stream",
          "name": "stdout",
          "text": [
            "i love Probability\n",
            "['love', 'Probability']\n",
            "['Probability', 'love']\n"
          ]
        }
      ]
    },
    {
      "cell_type": "markdown",
      "source": [
        "Write a Python function to find all anagrams of a word in a given list.\n",
        "Input: word = \"listen\", words = [\"enlist\", \"google\", \"inlets\", \"banana\"]\n",
        "Output: [\"enlist\", \"inlets\"]"
      ],
      "metadata": {
        "id": "JdugLHBTV0fu"
      }
    },
    {
      "cell_type": "code",
      "source": [
        "word=input()\n",
        "words=list(map(str,input().split(\",\")))\n",
        "for i in words:\n",
        "  if len(i)!=len(word):\n",
        "    words.remove(i)\n",
        "for j in words:\n",
        "  for k in range(len(word)):\n",
        "    if word[k] not in j:\n",
        "      words.remove(j)\n",
        "      break\n",
        "print(words)"
      ],
      "metadata": {
        "colab": {
          "base_uri": "https://localhost:8080/"
        },
        "id": "xcRIEuizV08U",
        "outputId": "af2de16e-7442-4422-8108-584921f3f655"
      },
      "execution_count": null,
      "outputs": [
        {
          "output_type": "stream",
          "name": "stdout",
          "text": [
            "listen\n",
            "inlets,apple,banana,enlist\n",
            "['inlets', 'enlist']\n"
          ]
        }
      ]
    },
    {
      "cell_type": "markdown",
      "source": [
        "Given two lists, write Python code to find their intersection, union, and symmetric difference.\n",
        "Visualize the results using Venn diagrams.\n"
      ],
      "metadata": {
        "id": "WM_16i-eZ7iU"
      }
    },
    {
      "cell_type": "code",
      "source": [
        "a=list(map(int,input().split(',')))\n",
        "b=list(map(int,input().split(',')))\n",
        "union=b\n",
        "intersection=[]\n",
        "for i in a:\n",
        "  if i in b:\n",
        "    intersection+=[i]\n",
        "  else:\n",
        "    union+=[i]\n",
        "print(union)\n",
        "print(intersection)\n",
        "for j in intersection:\n",
        "  if j in union:\n",
        "    union.remove(j)\n",
        "print(union)\n",
        "\n",
        "\n"
      ],
      "metadata": {
        "id": "w5ek9BJRZ728",
        "colab": {
          "base_uri": "https://localhost:8080/"
        },
        "outputId": "f62f697c-4127-4032-8e89-b8348c760842"
      },
      "execution_count": null,
      "outputs": [
        {
          "output_type": "stream",
          "name": "stdout",
          "text": [
            "1,2,3,4,5\n",
            "5,6,4,2,3\n",
            "[5, 6, 4, 2, 3, 1]\n",
            "[2, 3, 4, 5]\n",
            "[6, 1]\n"
          ]
        }
      ]
    },
    {
      "cell_type": "markdown",
      "source": [
        "Word Count and Frequency:\n",
        "Write a program to:\n",
        "Read a file and count the number of words in it.\n",
        "Find the most frequent word.\n",
        "Visualize the word frequencies using a bar chart."
      ],
      "metadata": {
        "id": "PYJ_uNlj8JdM"
      }
    },
    {
      "cell_type": "code",
      "source": [
        "fhand=open('MY FILE.txt')\n",
        "count=0\n",
        "f=0\n",
        "a=0\n",
        "b=0\n",
        "Words=[]\n",
        "for line in fhand:\n",
        "  words=line.split(\" \")\n",
        "  Words+=words\n",
        "  count=count+ len(words)\n",
        "print(count)\n",
        "for i in Words:\n",
        "  for j in range (len(Words)):\n",
        "        if i==Words[j]:\n",
        "          f+=1\n",
        "  if f>1:\n",
        "    a=f\n",
        "    b=i\n",
        "    f=0\n",
        "  else:\n",
        "    f=0\n",
        "if f>1:\n",
        "  print(i)\n",
        "else:\n",
        "  print('no repeated word')\n",
        "\n",
        "\n",
        "\n",
        "\n",
        "\n",
        "\n",
        "\n",
        "\n"
      ],
      "metadata": {
        "colab": {
          "base_uri": "https://localhost:8080/"
        },
        "id": "A9C7jvwt8KGe",
        "outputId": "56815ad6-7d2a-4c55-f6e6-91573ad2e62c"
      },
      "execution_count": null,
      "outputs": [
        {
          "output_type": "stream",
          "name": "stdout",
          "text": [
            "14\n",
            "no repeated word\n"
          ]
        }
      ]
    },
    {
      "cell_type": "code",
      "source": [
        "from google.colab import drive\n",
        "drive.mount('/content/drive')"
      ],
      "metadata": {
        "id": "pzLpunDGAfD0"
      },
      "execution_count": null,
      "outputs": []
    },
    {
      "cell_type": "markdown",
      "source": [
        "17,19,20 and 22 not done"
      ],
      "metadata": {
        "id": "27vKfOU3GB2i"
      }
    },
    {
      "cell_type": "markdown",
      "source": [
        "Write Python code to calculate:\n",
        "Mean, median, mode, and standard deviation of a list of numbers.\n",
        "Visualize the data using a box plot."
      ],
      "metadata": {
        "id": "CVzALvswKFtP"
      }
    },
    {
      "cell_type": "code",
      "source": [
        "numbers=list(map(int,input().split(',')))\n",
        "s=0\n",
        "s1=0\n",
        "l=len(numbers)\n",
        "for i in numbers:\n",
        "  s+=i\n",
        "mean=s/l\n",
        "print(mean)\n",
        "numbers.sort()\n",
        "if l%2==0:\n",
        "  median=(numbers[l//2]+numbers[l//2-1])/2\n",
        "else:\n",
        "  median=numbers[l//2]\n",
        "print(median)\n",
        "for i in numbers:\n",
        "  s1=s1+(i-mean)**2\n",
        "  sd=(s1/l)**0.5\n",
        "print(sd)\n",
        "\n"
      ],
      "metadata": {
        "colab": {
          "base_uri": "https://localhost:8080/"
        },
        "id": "8Fw_p4bfFkcm",
        "outputId": "08a060ab-f6a8-4820-904f-1db5cbd06a04"
      },
      "execution_count": null,
      "outputs": [
        {
          "output_type": "stream",
          "name": "stdout",
          "text": [
            "1,2,3,5,6\n",
            "3.4\n",
            "3\n",
            "1.854723699099141\n"
          ]
        }
      ]
    },
    {
      "cell_type": "markdown",
      "source": [
        "Write a Python program that takes an integer input from the user and prints whether the number is even or odd."
      ],
      "metadata": {
        "id": "F3uThro8UOC8"
      }
    },
    {
      "cell_type": "code",
      "source": [
        "n=int(input())\n",
        "if n%2==0:\n",
        "  print('even')\n",
        "else:\n",
        "  print('odd')"
      ],
      "metadata": {
        "colab": {
          "base_uri": "https://localhost:8080/"
        },
        "id": "HXS0qlJ5UO2R",
        "outputId": "04f9371b-f808-4c2d-cdf8-3ec3e62647a4"
      },
      "execution_count": null,
      "outputs": [
        {
          "output_type": "stream",
          "name": "stdout",
          "text": [
            "6\n",
            "even\n"
          ]
        }
      ]
    },
    {
      "cell_type": "markdown",
      "source": [
        "Write a Python program that takes a numerical grade (0-100) as input and prints the corresponding letter grade (A, B, C, D, F)."
      ],
      "metadata": {
        "id": "_B1R5iG6V4Pt"
      }
    },
    {
      "cell_type": "code",
      "source": [
        "marks=int(input())\n",
        "if marks>=90:\n",
        "    print('A')\n",
        "elif marks>=80:\n",
        "    print('B')\n",
        "elif marks>=70:\n",
        "    print('C')\n",
        "elif marks>=60:\n",
        "    print('D')\n",
        "elif marks<60:\n",
        "    print('F')\n",
        "  #match-case??"
      ],
      "metadata": {
        "colab": {
          "base_uri": "https://localhost:8080/"
        },
        "id": "vBfbn9_0V5Fl",
        "outputId": "01f1fcdb-6ca2-4480-e832-7eff8059ec18"
      },
      "execution_count": null,
      "outputs": [
        {
          "output_type": "stream",
          "name": "stdout",
          "text": [
            "54\n",
            "F\n"
          ]
        }
      ]
    },
    {
      "cell_type": "markdown",
      "source": [
        "Write a Python program that takes a year as input and checks if it is a leap year."
      ],
      "metadata": {
        "id": "eM04FWjVYLTc"
      }
    },
    {
      "cell_type": "code",
      "source": [
        "#A year is a leap year if it is evenly divisible by 4.\n",
        "#However, if the year is also evenly divisible by 100, it is not a leap year, unless:\n",
        "#The year is evenly divisible by 400, in which case it is a leap year.\n",
        "year=int(input())\n",
        "if year%4==0:\n",
        "  if year%100==0:\n",
        "    if year%400==0:\n",
        "      print('leap year')\n",
        "    else:\n",
        "      print('not a leap year')\n",
        "  else:\n",
        "    print('leap year')\n",
        "else:\n",
        "  print('not a leap year')"
      ],
      "metadata": {
        "colab": {
          "base_uri": "https://localhost:8080/"
        },
        "id": "jIHuzwj1YMMf",
        "outputId": "a16dec12-844b-4f34-a415-346180d7d062"
      },
      "execution_count": null,
      "outputs": [
        {
          "output_type": "stream",
          "name": "stdout",
          "text": [
            "1920\n",
            "leap year\n"
          ]
        }
      ]
    }
  ]
}